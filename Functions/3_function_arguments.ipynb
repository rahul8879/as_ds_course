{
 "cells": [
  {
   "cell_type": "markdown",
   "metadata": {
    "id": "xkpauDXqJRw3"
   },
   "source": [
    "# Function Arguments\n"
   ]
  },
  {
   "cell_type": "code",
   "execution_count": 2,
   "metadata": {
    "id": "AbKNcisrJRxJ",
    "outputId": "a44121ca-349d-4828-d266-ae4fd9e76b28"
   },
   "outputs": [
    {
     "ename": "TypeError",
     "evalue": "greet() missing 1 required positional argument: 'msg'",
     "output_type": "error",
     "traceback": [
      "\u001b[31m---------------------------------------------------------------------------\u001b[39m",
      "\u001b[31mTypeError\u001b[39m                                 Traceback (most recent call last)",
      "\u001b[36mCell\u001b[39m\u001b[36m \u001b[39m\u001b[32mIn[2]\u001b[39m\u001b[32m, line 8\u001b[39m\n\u001b[32m      5\u001b[39m     \u001b[38;5;28mprint\u001b[39m(\u001b[33m\"\u001b[39m\u001b[33mHello \u001b[39m\u001b[38;5;132;01m{0}\u001b[39;00m\u001b[33m , \u001b[39m\u001b[38;5;132;01m{1}\u001b[39;00m\u001b[33m\"\u001b[39m.format(name, msg))\n\u001b[32m      7\u001b[39m \u001b[38;5;66;03m#call the function with arguments\u001b[39;00m\n\u001b[32m----> \u001b[39m\u001b[32m8\u001b[39m \u001b[43mgreet\u001b[49m\u001b[43m(\u001b[49m\u001b[33;43m\"\u001b[39;49m\u001b[33;43msatish\u001b[39;49m\u001b[33;43m\"\u001b[39;49m\u001b[43m)\u001b[49m\n",
      "\u001b[31mTypeError\u001b[39m: greet() missing 1 required positional argument: 'msg'"
     ]
    }
   ],
   "source": [
    "def greet(name, msg):\n",
    "    \"\"\"\n",
    "    This function greets to person with the provided message\n",
    "    \"\"\"\n",
    "    print(\"Hello {0} , {1}\".format(name, msg))\n",
    "\n",
    "#call the function with arguments\n",
    "greet(\"satish\")\n"
   ]
  },
  {
   "cell_type": "code",
   "execution_count": null,
   "metadata": {
    "id": "DdftwAr7JRxN",
    "outputId": "3019f116-b1d9-46a4-966d-b6a8c15b0dfd"
   },
   "outputs": [
    {
     "ename": "TypeError",
     "evalue": "greet() missing 1 required positional argument: 'msg'",
     "output_type": "error",
     "traceback": [
      "\u001b[0;31m---------------------------------------------------------------------------\u001b[0m",
      "\u001b[0;31mTypeError\u001b[0m                                 Traceback (most recent call last)",
      "\u001b[0;32m<ipython-input-3-b48ea98044bf>\u001b[0m in \u001b[0;36m<module>\u001b[0;34m()\u001b[0m\n\u001b[1;32m      1\u001b[0m \u001b[0;31m#suppose if we pass one argument\u001b[0m\u001b[0;34m\u001b[0m\u001b[0;34m\u001b[0m\u001b[0m\n\u001b[1;32m      2\u001b[0m \u001b[0;34m\u001b[0m\u001b[0m\n\u001b[0;32m----> 3\u001b[0;31m \u001b[0mgreet\u001b[0m\u001b[0;34m(\u001b[0m\u001b[0;34m\"satish\"\u001b[0m\u001b[0;34m)\u001b[0m \u001b[0;31m#will get an error\u001b[0m\u001b[0;34m\u001b[0m\u001b[0m\n\u001b[0m",
      "\u001b[0;31mTypeError\u001b[0m: greet() missing 1 required positional argument: 'msg'"
     ]
    }
   ],
   "source": [
    "#suppose if we pass one argument\n",
    "\n",
    "greet(\"satish\") #will get an error\n"
   ]
  },
  {
   "cell_type": "markdown",
   "metadata": {
    "id": "BzHHwgCdJRxP"
   },
   "source": [
    "# Different Forms of Arguments"
   ]
  },
  {
   "cell_type": "markdown",
   "metadata": {
    "id": "CksOvu0JJRxQ"
   },
   "source": [
    "# 1. Default Arguments"
   ]
  },
  {
   "cell_type": "markdown",
   "metadata": {
    "id": "T23E9xJoJRxQ"
   },
   "source": [
    "We can provide a default value to an argument by using the assignment operator (=). "
   ]
  },
  {
   "cell_type": "code",
   "execution_count": 4,
   "metadata": {
    "id": "CFAS8GZ7JRxR",
    "outputId": "911739c0-8c52-4ea9-8ac0-c06762a141c1"
   },
   "outputs": [
    {
     "name": "stdout",
     "output_type": "stream",
     "text": [
      "Hello Rahul , Bad Morning\n"
     ]
    }
   ],
   "source": [
    "def greet(name, msg=\"Good Morning\"):\n",
    "    \"\"\"\n",
    "    This function greets to person with the provided message\n",
    "    if message is not provided, it defaults to \"Good Morning\"\n",
    "    \"\"\"\n",
    "    print(\"Hello {0} , {1}\".format(name, msg))\n",
    "\n",
    "greet('Rahul','Bad Morning')\n"
   ]
  },
  {
   "cell_type": "code",
   "execution_count": 3,
   "metadata": {
    "id": "L-VGeAvoJRxS",
    "outputId": "7dda33bb-7851-4cc9-c954-71e5ce0b005a"
   },
   "outputs": [
    {
     "name": "stdout",
     "output_type": "stream",
     "text": [
      "Hello satish , Go n study\n"
     ]
    }
   ],
   "source": [
    "#with out msg argument\n",
    "greet(\"satish\",'Go n study')\n"
   ]
  },
  {
   "cell_type": "markdown",
   "metadata": {
    "id": "3jJg69PgJRxU"
   },
   "source": [
    "Once we have a default argument, all the arguments to its right must also have default values."
   ]
  },
  {
   "cell_type": "markdown",
   "metadata": {
    "id": "kvC03lIFJRxU"
   },
   "source": [
    "def greet(msg=\"Good Morning\", name)   \n",
    "\n",
    "#will get a SyntaxError : non-default argument follows default argument"
   ]
  },
  {
   "cell_type": "markdown",
   "metadata": {
    "id": "WDX2OrUKJRxV"
   },
   "source": [
    "# 2. Keyword Arguments"
   ]
  },
  {
   "cell_type": "markdown",
   "metadata": {
    "id": "Rt7Wjjk5JRxW"
   },
   "source": [
    "kwargs allows you to pass keyworded variable length of arguments to a function. You should use **kwargs if you want to handle named arguments in a function"
   ]
  },
  {
   "cell_type": "markdown",
   "metadata": {
    "id": "dSfi0ixQJRxW"
   },
   "source": [
    "# Example:"
   ]
  },
  {
   "cell_type": "code",
   "execution_count": 10,
   "metadata": {
    "id": "hAyL0iPrJRxX",
    "outputId": "a394a81a-251f-46da-a83e-57304f65706b"
   },
   "outputs": [
    {
     "name": "stdout",
     "output_type": "stream",
     "text": [
      "Hello Rahul , Go n study\n"
     ]
    }
   ],
   "source": [
    "def greet(**kwargs):\n",
    "    \"\"\"\n",
    "    This function greets to person with the provided message\n",
    "    \"\"\"\n",
    "    if kwargs:\n",
    "        print(\"Hello {0} , {1}\".format(kwargs['name'], kwargs['msg']))\n",
    "    else:\n",
    "        print(\"Hello , Good Morning\")\n",
    "greet(name=\"Rahul\", msg=\"Go n study\")\n"
   ]
  },
  {
   "cell_type": "markdown",
   "metadata": {
    "id": "peD0sEQ2JRxY"
   },
   "source": [
    "# 3. Arbitary Arguments"
   ]
  },
  {
   "cell_type": "markdown",
   "metadata": {
    "id": "zcM0Px64JRxY"
   },
   "source": [
    "Sometimes, we do not know in advance the number of arguments that will be passed into a function.Python allows us to handle this kind of situation through function calls with arbitrary number of arguments."
   ]
  },
  {
   "cell_type": "markdown",
   "metadata": {
    "id": "FUyJdXVhJRxZ"
   },
   "source": [
    "# Example:"
   ]
  },
  {
   "cell_type": "code",
   "execution_count": 16,
   "metadata": {
    "id": "LiwrfzBqJRxZ",
    "outputId": "4ab97bf2-b692-485b-ade6-5003e4aa866e"
   },
   "outputs": [
    {
     "name": "stdout",
     "output_type": "stream",
     "text": [
      "()\n"
     ]
    }
   ],
   "source": [
    "def greet(*names):\n",
    "    \"\"\"\n",
    "    This function greets all persons in the names tuple \n",
    "    \"\"\"\n",
    "    print(names)\n",
    "    \n",
    "    for name in names:\n",
    "        print(\"Hello,  {0} \".format(name))\n",
    "\n",
    "greet()\n"
   ]
  },
  {
   "cell_type": "code",
   "execution_count": 17,
   "metadata": {
    "collapsed": true,
    "id": "KIfWXlGlJRxb"
   },
   "outputs": [
    {
     "data": {
      "text/plain": [
       "1"
      ]
     },
     "execution_count": 17,
     "metadata": {},
     "output_type": "execute_result"
    }
   ],
   "source": [
    "marks = [1,3,5,2,7,9]\n",
    "\n",
    "# cnt of even\n",
    "\n",
    "def count_even(lst):\n",
    "    cnt = 0 \n",
    "    for i in lst:\n",
    "        if i%2==0:\n",
    "            cnt +=1\n",
    "    return cnt\n",
    "count_even(marks)"
   ]
  },
  {
   "cell_type": "code",
   "execution_count": 18,
   "metadata": {},
   "outputs": [],
   "source": [
    "def cnt_even_number(lst):\n",
    "    \n",
    "    cnt = 0\n",
    "    for i in lst:\n",
    "        if i % 2 ==0:\n",
    "            cnt = cnt +1\n",
    "    return cnt"
   ]
  },
  {
   "cell_type": "code",
   "execution_count": 14,
   "metadata": {},
   "outputs": [
    {
     "data": {
      "text/plain": [
       "0"
      ]
     },
     "execution_count": 14,
     "metadata": {},
     "output_type": "execute_result"
    }
   ],
   "source": []
  },
  {
   "cell_type": "code",
   "execution_count": 19,
   "metadata": {},
   "outputs": [],
   "source": [
    "lst = [3,2,3,1]\n",
    "\n",
    "total_len = len(lst)\n",
    "evn_cnt = cnt_even_number(lst)"
   ]
  },
  {
   "cell_type": "code",
   "execution_count": 19,
   "metadata": {},
   "outputs": [
    {
     "data": {
      "text/plain": [
       "3"
      ]
     },
     "execution_count": 19,
     "metadata": {},
     "output_type": "execute_result"
    }
   ],
   "source": [
    "total_len -evn_cnt"
   ]
  },
  {
   "cell_type": "code",
   "execution_count": 20,
   "metadata": {},
   "outputs": [],
   "source": [
    "def find_max_number(numbers):\n",
    "    max_number = numbers[0]  # Assume the first number in the list is the maximum\n",
    "\n",
    "    # Iterate through each number in the list starting from the second number\n",
    "    for number in numbers[1:]:\n",
    "        if number > max_number:  # Check if the current number is greater than the assumed maximum\n",
    "            max_number = number  # Update the maximum number if the current number is greater\n",
    "\n",
    "    return max_number  # Return the maximum number found\n",
    "\n"
   ]
  },
  {
   "cell_type": "code",
   "execution_count": 21,
   "metadata": {},
   "outputs": [],
   "source": [
    "def find_max_number(number,max_number):\n",
    "    max_number=0\n",
    "    number=[2,7,3,8]\n",
    "    for i in number[1:]:\n",
    "        if i> max_number:\n",
    "            max_number=i\n",
    "    return(max_number)"
   ]
  },
  {
   "cell_type": "code",
   "execution_count": 22,
   "metadata": {},
   "outputs": [],
   "source": [
    "# find_max_number()\n",
    "\n",
    "\n",
    "def findMax(lst):\n",
    "    max_number = lst[0] # assume\n",
    "    \n",
    "    for i in lst[1:]:\n",
    "        if i>max_number:\n",
    "            max_number = i\n",
    "    return max_number"
   ]
  },
  {
   "cell_type": "code",
   "execution_count": 23,
   "metadata": {},
   "outputs": [
    {
     "data": {
      "text/plain": [
       "8"
      ]
     },
     "execution_count": 23,
     "metadata": {},
     "output_type": "execute_result"
    }
   ],
   "source": [
    "number=[2,7,3,8]\n",
    "findMax(number)"
   ]
  },
  {
   "cell_type": "code",
   "execution_count": 4,
   "metadata": {},
   "outputs": [],
   "source": [
    "def find_min_number(lst):\n",
    "    min_number=lst[0]\n",
    "    for i in min_number[1:]:\n",
    "        if i<min_number:\n",
    "            min_number=i\n",
    "    return min_number"
   ]
  }
 ],
 "metadata": {
  "colab": {
   "name": "3_function_arguments.ipynb",
   "provenance": []
  },
  "kernelspec": {
   "display_name": ".venv",
   "language": "python",
   "name": "python3"
  },
  "language_info": {
   "codemirror_mode": {
    "name": "ipython",
    "version": 3
   },
   "file_extension": ".py",
   "mimetype": "text/x-python",
   "name": "python",
   "nbconvert_exporter": "python",
   "pygments_lexer": "ipython3",
   "version": "3.13.7"
  }
 },
 "nbformat": 4,
 "nbformat_minor": 1
}
