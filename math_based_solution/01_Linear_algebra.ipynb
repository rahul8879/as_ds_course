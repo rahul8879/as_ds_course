{
 "cells": [
  {
   "cell_type": "markdown",
   "id": "13ef94da",
   "metadata": {},
   "source": [
    "## Scenario: Retail Store Sales Prediction"
   ]
  },
  {
   "cell_type": "markdown",
   "id": "6875f30c",
   "metadata": {},
   "source": [
    "The store runs discounts during weekdays and weekends. We want to:\n",
    "- Predict sales quantity using discount (%) and whether it's a weekend.\n",
    "- Optimize discount to achieve maximum sales within a budget."
   ]
  },
  {
   "cell_type": "code",
   "execution_count": null,
   "id": "bae5b1a4",
   "metadata": {},
   "outputs": [],
   "source": []
  },
  {
   "cell_type": "code",
   "execution_count": 1,
   "id": "ac1147ac",
   "metadata": {},
   "outputs": [
    {
     "name": "stdout",
     "output_type": "stream",
     "text": [
      "=== Solved parameters (theta) from normal equations ===\n",
      "c (intercept): 25.476190\n",
      "a (per 1% discount): 4.285714\n",
      "b (weekend boost): 38.452381\n",
      "\n",
      "Fitted rule: q ≈ c + a*d + b*w\n",
      "q ≈ 25.4762 + 4.2857 * d + 38.4524 * w\n",
      "\n",
      "Predict(d=12, w=0): q ≈ 76.90\n",
      "Predict(d=12, w=1): q ≈ 115.36\n",
      "Predict(d=15, w=0): q ≈ 89.76\n",
      "Predict(d=15, w=1): q ≈ 128.21\n",
      "\n",
      "Optimization (weekend=0): best d = 15.00%  →  q ≈ 89.76\n",
      "Optimization (weekend=1): best d = 15.00%  →  q ≈ 128.21\n",
      "\n",
      "Normal equations residual (should be ~0): 1.136868e-13\n"
     ]
    }
   ],
   "source": [
    "from typing import Tuple\n",
    "import numpy as np\n",
    "\n",
    "\n",
    "def build_dataset() -> Tuple[np.ndarray, np.ndarray]:\n",
    "    \"\"\"\n",
    "    Create the dataset.\n",
    "\n",
    "    Columns:\n",
    "      - intercept term (all ones)\n",
    "      - discount d (%)\n",
    "      - weekend w (0 or 1)\n",
    "    Target:\n",
    "      - sales quantity q\n",
    "\n",
    "    Returns:\n",
    "      X: shape (n_samples, 3)\n",
    "      y: shape (n_samples, 1)\n",
    "    \"\"\"\n",
    "    # Data table (Day, d, w, q)\n",
    "    rows = [\n",
    "        # Day,  d,  w,   q\n",
    "        (1,     5,  0,  50),\n",
    "        (2,    10,  0,  70),\n",
    "        (3,    15,  0,  85),\n",
    "        (4,     5,  1,  80),\n",
    "        (5,    10,  1, 110),\n",
    "        (6,    15,  1, 130),\n",
    "        (7,    20,  1, 150),\n",
    "    ]\n",
    "\n",
    "    # Build X with an intercept column of 1s, plus d and w\n",
    "    X = np.array([[1.0, r[1], float(r[2])] for r in rows], dtype=float)  # (n, 3)\n",
    "    y = np.array([[r[3]] for r in rows], dtype=float)                    # (n, 1)\n",
    "    return X, y\n",
    "\n",
    "\n",
    "def fit_normal_equations(X: np.ndarray, y: np.ndarray) -> np.ndarray:\n",
    "    \"\"\"\n",
    "    Solve (X^T X) theta = X^T y for theta using exact linear algebra.\n",
    "\n",
    "    Args:\n",
    "      X: (n, 3) design matrix with columns [1, d, w]\n",
    "      y: (n, 1) targets (q)\n",
    "\n",
    "    Returns:\n",
    "      theta: (3, 1) vector [c, a, b]^T\n",
    "    \"\"\"\n",
    "    # Compute the normal equations components\n",
    "    XtX = X.T @ X        # shape (3, 3)\n",
    "    Xty = X.T @ y        # shape (3, 1)\n",
    "\n",
    "    # Solve the 3x3 linear system for theta\n",
    "    theta = np.linalg.solve(XtX, Xty)  # (3, 1)\n",
    "\n",
    "    return theta\n",
    "\n",
    "\n",
    "def predict(theta: np.ndarray, d: float, w: int) -> float:\n",
    "    \"\"\"\n",
    "    Predict q = c + a*d + b*w using the solved theta.\n",
    "\n",
    "    Args:\n",
    "      theta: (3, 1) [c, a, b]\n",
    "      d: discount (%)\n",
    "      w: weekend (0 or 1)\n",
    "\n",
    "    Returns:\n",
    "      predicted sales quantity (float)\n",
    "    \"\"\"\n",
    "    c, a, b = theta.flatten()\n",
    "    return c + a * d + b * w\n",
    "\n",
    "\n",
    "def optimize_discount(theta: np.ndarray,\n",
    "                      budget_per_day: float,\n",
    "                      cost_per_1pct: float,\n",
    "                      weekend: int) -> Tuple[float, float]:\n",
    "    \"\"\"\n",
    "    Solve the simple linear optimization:\n",
    "\n",
    "      Maximize q(d) = c + a*d + b*w\n",
    "      Subject to: 0 <= d <= budget_per_day / cost_per_1pct\n",
    "\n",
    "    Because q is linear and a > 0 in our data, the max is at the upper bound.\n",
    "\n",
    "    Args:\n",
    "      theta: (3, 1) [c, a, b]\n",
    "      budget_per_day: total budget ($/day)\n",
    "      cost_per_1pct: cost of 1% discount ($ per day)\n",
    "      weekend: 0 or 1\n",
    "\n",
    "    Returns:\n",
    "      (d_star, q_star): optimal discount and resulting predicted quantity\n",
    "    \"\"\"\n",
    "    c, a, b = theta.flatten()\n",
    "    # Feasible upper bound for discount\n",
    "    d_max = budget_per_day / cost_per_1pct\n",
    "    # If a <= 0, the max would be at 0. With our data a > 0, so use the upper bound.\n",
    "    d_star = d_max if a > 0 else 0.0\n",
    "    q_star = c + a * d_star + b * weekend\n",
    "    return d_star, q_star\n",
    "\n",
    "\n",
    "def main():\n",
    "    # 1) Build data and matrices\n",
    "    X, y = build_dataset()\n",
    "\n",
    "    # 2) Solve normal equations (pure linear algebra)\n",
    "    theta = fit_normal_equations(X, y)  # shape (3, 1)\n",
    "    c, a, b = theta.flatten()\n",
    "\n",
    "    print(\"=== Solved parameters (theta) from normal equations ===\")\n",
    "    print(f\"c (intercept): {c:.6f}\")\n",
    "    print(f\"a (per 1% discount): {a:.6f}\")\n",
    "    print(f\"b (weekend boost): {b:.6f}\\n\")\n",
    "\n",
    "    # 3) Show the explicit linear rule\n",
    "    print(\"Fitted rule: q ≈ c + a*d + b*w\")\n",
    "    print(f\"q ≈ {c:.4f} + {a:.4f} * d + {b:.4f} * w\\n\")\n",
    "\n",
    "    # 4) Make a couple of predictions\n",
    "    for d, w in [(12, 0), (12, 1), (15, 0), (15, 1)]:\n",
    "        q_hat = predict(theta, d=d, w=w)\n",
    "        print(f\"Predict(d={d:>2}, w={w}): q ≈ {q_hat:.2f}\")\n",
    "    print()\n",
    "\n",
    "    # 5) Simple optimization under a daily budget\n",
    "    budget_per_day = 75.0   # $\n",
    "    cost_per_1pct  = 5.0    # $ per 1% discount\n",
    "    for w in [0, 1]:\n",
    "        d_star, q_star = optimize_discount(theta, budget_per_day, cost_per_1pct, weekend=w)\n",
    "        print(f\"Optimization (weekend={w}): best d = {d_star:.2f}%  →  q ≈ {q_star:.2f}\")\n",
    "\n",
    "    # 6) (Optional) Verify the normal equations were satisfied numerically\n",
    "    XtX = X.T @ X\n",
    "    Xty = X.T @ y\n",
    "    lhs = XtX @ theta\n",
    "    max_abs_resid = np.max(np.abs(lhs - Xty))\n",
    "    print(f\"\\nNormal equations residual (should be ~0): {max_abs_resid:.6e}\")\n",
    "\n",
    "\n",
    "if __name__ == \"__main__\":\n",
    "    main()"
   ]
  },
  {
   "cell_type": "code",
   "execution_count": 3,
   "id": "884b315c",
   "metadata": {},
   "outputs": [
    {
     "name": "stdout",
     "output_type": "stream",
     "text": [
      "Collecting numpy\n",
      "  Using cached numpy-2.3.2-cp313-cp313-macosx_14_0_arm64.whl.metadata (62 kB)\n",
      "Using cached numpy-2.3.2-cp313-cp313-macosx_14_0_arm64.whl (5.1 MB)\n",
      "Installing collected packages: numpy\n",
      "Successfully installed numpy-2.3.2\n",
      "Note: you may need to restart the kernel to use updated packages.\n"
     ]
    }
   ],
   "source": [
    "pip install numpy"
   ]
  },
  {
   "cell_type": "code",
   "execution_count": 5,
   "id": "bb3c8d6a",
   "metadata": {},
   "outputs": [],
   "source": [
    "import numpy as np\n",
    "d = np.array([5,10,15,5,10,15,20],dtype=float)\n",
    "w  = np.array([0,0,0,1,1,1,1],dtype=float)\n",
    "q = np.array([50,70,85,80,110,130,150],dtype=float)"
   ]
  },
  {
   "cell_type": "code",
   "execution_count": 9,
   "id": "6604b077",
   "metadata": {},
   "outputs": [],
   "source": [
    "y = q.reshape(-1,1)  # (n,1)\n"
   ]
  },
  {
   "cell_type": "code",
   "execution_count": 11,
   "id": "bade3324",
   "metadata": {},
   "outputs": [
    {
     "name": "stdout",
     "output_type": "stream",
     "text": [
      "[1. 1. 1. 1. 1. 1. 1.]\n",
      "[[ 1.  5.  0.]\n",
      " [ 1. 10.  0.]\n",
      " [ 1. 15.  0.]\n",
      " [ 1.  5.  1.]\n",
      " [ 1. 10.  1.]\n",
      " [ 1. 15.  1.]\n",
      " [ 1. 20.  1.]]\n"
     ]
    }
   ],
   "source": [
    "ones = np.ones_like(d)\n",
    "print(ones)\n",
    "\n",
    "X = np.column_stack((ones,d,w))  # (n,3)\n",
    "print(X)"
   ]
  },
  {
   "cell_type": "code",
   "execution_count": 13,
   "id": "a5711fdc",
   "metadata": {},
   "outputs": [
    {
     "name": "stdout",
     "output_type": "stream",
     "text": [
      "[[25.47619048]\n",
      " [ 4.28571429]\n",
      " [38.45238095]]\n"
     ]
    }
   ],
   "source": [
    "XtX= X.T @ X  # (3,3)\n",
    "Xty = X.T @ y  # (3,1)\n",
    "\n",
    "theta = np.linalg.inv(XtX) @ Xty  # (3,1)\n",
    "print(theta)    "
   ]
  },
  {
   "cell_type": "code",
   "execution_count": 15,
   "id": "e542c0a5",
   "metadata": {},
   "outputs": [],
   "source": [
    "c,m1,m2 = theta.flatten()"
   ]
  },
  {
   "cell_type": "code",
   "execution_count": 16,
   "id": "6bcf835a",
   "metadata": {},
   "outputs": [],
   "source": [
    "def predict(d_value, w_value):\n",
    "    return c+m1*d_value + m2*w_value"
   ]
  },
  {
   "cell_type": "code",
   "execution_count": 20,
   "id": "10ab5a9d",
   "metadata": {},
   "outputs": [
    {
     "data": {
      "text/plain": [
       "np.float64(25.47619047619051)"
      ]
     },
     "execution_count": 20,
     "metadata": {},
     "output_type": "execute_result"
    }
   ],
   "source": [
    "predict(0, 0)"
   ]
  },
  {
   "cell_type": "code",
   "execution_count": null,
   "id": "908fae69",
   "metadata": {},
   "outputs": [],
   "source": []
  },
  {
   "cell_type": "code",
   "execution_count": null,
   "id": "a861a0b1",
   "metadata": {},
   "outputs": [],
   "source": []
  },
  {
   "cell_type": "code",
   "execution_count": null,
   "id": "f4ca5ecf",
   "metadata": {},
   "outputs": [],
   "source": []
  }
 ],
 "metadata": {
  "kernelspec": {
   "display_name": "Python 3",
   "language": "python",
   "name": "python3"
  },
  "language_info": {
   "codemirror_mode": {
    "name": "ipython",
    "version": 3
   },
   "file_extension": ".py",
   "mimetype": "text/x-python",
   "name": "python",
   "nbconvert_exporter": "python",
   "pygments_lexer": "ipython3",
   "version": "3.13.7"
  }
 },
 "nbformat": 4,
 "nbformat_minor": 5
}
