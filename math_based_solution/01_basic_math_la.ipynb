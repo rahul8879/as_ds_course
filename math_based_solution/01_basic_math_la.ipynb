{
 "cells": [
  {
   "cell_type": "code",
   "execution_count": 4,
   "id": "27ed53ed",
   "metadata": {},
   "outputs": [
    {
     "data": {
      "text/html": [
       "<div>\n",
       "<style scoped>\n",
       "    .dataframe tbody tr th:only-of-type {\n",
       "        vertical-align: middle;\n",
       "    }\n",
       "\n",
       "    .dataframe tbody tr th {\n",
       "        vertical-align: top;\n",
       "    }\n",
       "\n",
       "    .dataframe thead th {\n",
       "        text-align: right;\n",
       "    }\n",
       "</style>\n",
       "<table border=\"1\" class=\"dataframe\">\n",
       "  <thead>\n",
       "    <tr style=\"text-align: right;\">\n",
       "      <th></th>\n",
       "      <th>id</th>\n",
       "      <th>income</th>\n",
       "      <th>credit_score</th>\n",
       "      <th>y</th>\n",
       "    </tr>\n",
       "  </thead>\n",
       "  <tbody>\n",
       "    <tr>\n",
       "      <th>0</th>\n",
       "      <td>1</td>\n",
       "      <td>50000</td>\n",
       "      <td>650</td>\n",
       "      <td>0</td>\n",
       "    </tr>\n",
       "    <tr>\n",
       "      <th>1</th>\n",
       "      <td>2</td>\n",
       "      <td>60000</td>\n",
       "      <td>700</td>\n",
       "      <td>1</td>\n",
       "    </tr>\n",
       "    <tr>\n",
       "      <th>2</th>\n",
       "      <td>3</td>\n",
       "      <td>70000</td>\n",
       "      <td>750</td>\n",
       "      <td>0</td>\n",
       "    </tr>\n",
       "    <tr>\n",
       "      <th>3</th>\n",
       "      <td>4</td>\n",
       "      <td>80000</td>\n",
       "      <td>800</td>\n",
       "      <td>1</td>\n",
       "    </tr>\n",
       "    <tr>\n",
       "      <th>4</th>\n",
       "      <td>5</td>\n",
       "      <td>90000</td>\n",
       "      <td>850</td>\n",
       "      <td>0</td>\n",
       "    </tr>\n",
       "  </tbody>\n",
       "</table>\n",
       "</div>"
      ],
      "text/plain": [
       "   id  income  credit_score  y\n",
       "0   1   50000           650  0\n",
       "1   2   60000           700  1\n",
       "2   3   70000           750  0\n",
       "3   4   80000           800  1\n",
       "4   5   90000           850  0"
      ]
     },
     "execution_count": 4,
     "metadata": {},
     "output_type": "execute_result"
    }
   ],
   "source": [
    "import numpy as np\n",
    "import pandas as pd\n",
    "\n",
    "# lets create 2 d data in pandas with two feature ( income, credit score, y )\n",
    "data = {\n",
    "    'id': [1, 2, 3, 4, 5],\n",
    "    'income': [50000, 60000, 70000, 80000, 90000],\n",
    "    'credit_score': [650, 700, 750, 800, 850],\n",
    "    'y': [0, 1, 0, 1, 0]\n",
    "}\n",
    "\n",
    "df = pd.DataFrame(data)\n",
    "df"
   ]
  },
  {
   "cell_type": "code",
   "execution_count": 5,
   "id": "d5519061",
   "metadata": {},
   "outputs": [
    {
     "data": {
      "text/plain": [
       "[(3, np.float64(0.0)),\n",
       " (2, np.float64(10000.12499921876)),\n",
       " (4, np.float64(10000.12499921876))]"
      ]
     },
     "execution_count": 5,
     "metadata": {},
     "output_type": "execute_result"
    }
   ],
   "source": [
    "# lets create a function which will take list with two input ( income , credit socre)\n",
    "# then compute the distance between each data point from df and find the nearest top 3 based on distance\n",
    "def find_nearest_neighbors(new_data, df):\n",
    "    distances = []\n",
    "    for index, row in df.iterrows():\n",
    "        dist = np.sqrt((row['income'] - new_data[0]) ** 2 + (row['credit_score'] - new_data[1]) ** 2)\n",
    "        distances.append((index, dist))\n",
    "    distances.sort(key=lambda x: x[1])\n",
    "    return distances[:3]\n",
    "\n",
    "find_nearest_neighbors([80000, 800], df)\n"
   ]
  },
  {
   "cell_type": "code",
   "execution_count": 4,
   "id": "f7c7dfea",
   "metadata": {},
   "outputs": [
    {
     "data": {
      "text/plain": [
       "array([[3.96727407e+01, 5.69020545e+01],\n",
       "       [9.03499296e+01, 1.01737592e+01],\n",
       "       [2.10579770e+00, 1.08932520e+00],\n",
       "       [1.78465860e+00, 8.31258721e+01],\n",
       "       [9.87081279e+01, 4.17110123e+01],\n",
       "       [3.78999819e+01, 9.94106858e+01],\n",
       "       [4.24698802e+01, 7.73107338e+01],\n",
       "       [8.20514802e+01, 1.00161202e+01],\n",
       "       [3.82119834e+00, 2.05024022e+01],\n",
       "       [7.79135683e+01, 8.76398169e+01],\n",
       "       [8.86469348e+01, 8.13329200e+00],\n",
       "       [1.00614156e+01, 3.75032856e+01],\n",
       "       [4.96037411e+01, 5.60108895e+01],\n",
       "       [7.63311047e+01, 1.24385361e+01],\n",
       "       [2.51439290e+01, 4.33824018e+01],\n",
       "       [6.57940410e+01, 3.11722468e+00],\n",
       "       [6.46622683e+01, 6.43602399e+01],\n",
       "       [4.15994761e+01, 7.39011721e+01],\n",
       "       [6.18600785e+01, 9.35262973e+01],\n",
       "       [7.74411328e+00, 9.79031632e+01],\n",
       "       [1.45527312e+01, 8.75904699e+01],\n",
       "       [3.35504725e+01, 1.55777060e+01],\n",
       "       [6.01719617e+01, 7.43362087e+01],\n",
       "       [2.07522172e+01, 4.91711191e+01],\n",
       "       [1.27209607e-01, 1.98913242e+00],\n",
       "       [1.44117027e+01, 4.89267364e+01],\n",
       "       [4.98647375e+01, 8.70398544e+01],\n",
       "       [1.65507308e+01, 2.34671877e+01],\n",
       "       [7.08246214e+01, 2.09265356e+01],\n",
       "       [1.98416626e+01, 3.99783427e+01],\n",
       "       [4.63733469e+01, 3.12546820e+01],\n",
       "       [5.78125996e+00, 3.95998248e+01],\n",
       "       [3.51782109e+01, 6.37190619e+00],\n",
       "       [7.86722728e+01, 9.87667826e+01],\n",
       "       [9.28897597e+01, 2.32274580e+01],\n",
       "       [3.12787089e+01, 8.15202250e+01],\n",
       "       [3.02082919e+01, 4.50933455e+01],\n",
       "       [1.25452323e+01, 4.12430974e+00],\n",
       "       [2.94251382e+01, 3.44706234e+01],\n",
       "       [1.98877616e+01, 7.32982453e+01],\n",
       "       [9.81299876e+01, 9.08491970e+01],\n",
       "       [4.31674766e+01, 1.51954593e+01],\n",
       "       [9.02130947e+01, 8.42557224e+01],\n",
       "       [4.58162940e+01, 8.35215696e+01],\n",
       "       [8.44185629e+01, 2.40017377e+01],\n",
       "       [9.73548187e+01, 1.48243677e+01],\n",
       "       [1.78996386e+01, 6.00883696e+01],\n",
       "       [4.02376050e+01, 6.65707843e+01],\n",
       "       [5.79727306e+01, 4.80094380e+01],\n",
       "       [5.40091731e-02, 2.40142831e+00],\n",
       "       [1.60460578e+01, 6.57150473e+01],\n",
       "       [2.86303638e+00, 1.03903943e+01],\n",
       "       [3.71624685e+01, 9.40368155e+01],\n",
       "       [6.41854320e+01, 4.02335368e+01],\n",
       "       [3.81879478e+01, 1.74553987e+01],\n",
       "       [1.45294972e+01, 5.24494242e+00],\n",
       "       [9.02439003e+01, 7.47432450e+00],\n",
       "       [4.49008614e+01, 4.20544791e+01],\n",
       "       [6.75682044e+01, 1.05558000e+01],\n",
       "       [8.80272999e+01, 7.17129616e+00],\n",
       "       [8.41870055e+01, 3.11439687e+01],\n",
       "       [3.33600832e+01, 9.74854132e+01],\n",
       "       [5.54763614e+01, 2.48046330e+01],\n",
       "       [7.16936069e+01, 9.12880989e+01],\n",
       "       [5.45995491e+01, 3.96432478e+01],\n",
       "       [1.23677133e+01, 5.37856830e+01],\n",
       "       [8.52548515e+01, 6.85635738e+01],\n",
       "       [6.41647060e+01, 4.06180362e+00],\n",
       "       [2.53525853e+01, 8.79915798e+01],\n",
       "       [6.82737474e+01, 2.22082634e+01],\n",
       "       [2.54141580e+01, 5.50622099e+01],\n",
       "       [3.43188270e+01, 9.27700261e+01],\n",
       "       [6.62801458e+00, 7.61359933e+01],\n",
       "       [9.68341119e+01, 9.08235768e+01],\n",
       "       [6.85119734e+01, 4.31877506e+01],\n",
       "       [6.16956814e+01, 4.67307186e+01],\n",
       "       [7.41602147e+01, 4.79019996e+01],\n",
       "       [3.97237498e+01, 2.21635821e+01],\n",
       "       [8.04841015e+01, 6.09638998e+01],\n",
       "       [9.20106800e+01, 4.65425013e+01],\n",
       "       [3.00442978e+01, 7.00580927e+01],\n",
       "       [3.67297283e+01, 5.03776052e+00],\n",
       "       [6.50277132e+01, 1.80477263e+01],\n",
       "       [8.18951073e+01, 4.12568824e+01],\n",
       "       [3.33427793e+01, 9.69777894e+01],\n",
       "       [3.91752171e+01, 8.19991847e+01],\n",
       "       [3.01610611e+01, 1.85758415e+01],\n",
       "       [2.68522446e+01, 8.50785028e+01],\n",
       "       [8.13617971e+01, 3.06811887e+01],\n",
       "       [3.14478514e+01, 4.97925406e+01],\n",
       "       [8.62833041e+01, 3.07185374e+01],\n",
       "       [3.29707024e+01, 2.23641687e+01],\n",
       "       [5.94100833e+01, 2.63719575e+01],\n",
       "       [9.24263970e+01, 6.62896845e+01],\n",
       "       [5.30196116e+01, 7.12515849e+01],\n",
       "       [6.92887011e+01, 6.88683420e+01],\n",
       "       [8.72172311e+01, 1.96692387e+01],\n",
       "       [2.11961422e+01, 6.18778925e+01],\n",
       "       [8.89180384e+01, 7.69840384e+01],\n",
       "       [6.42084444e+01, 7.97150614e+00]])"
      ]
     },
     "execution_count": 4,
     "metadata": {},
     "output_type": "execute_result"
    }
   ],
   "source": [
    "# lets tommorow new - c6 = [80000, 800]\n",
    "# c6 = [80000, 800]. --> y = pay or not÷\n",
    "data = np.random.rand(100, 2) * 100\n",
    "data"
   ]
  },
  {
   "cell_type": "code",
   "execution_count": 9,
   "id": "fd4c5308",
   "metadata": {},
   "outputs": [
    {
     "data": {
      "image/png": "[encoded data removed]",
      "text/plain": [
       "<Figure size 640x480 with 1 Axes>"
      ]
     },
     "metadata": {},
     "output_type": "display_data"
    }
   ],
   "source": [
    "import numpy as np\n",
    "import pandas as pd\n",
    "\n",
    "# we wnat to create  two colum - discount - we need Sales_volume : make linear relationship\n",
    "# sales_volume = 1000 - (discount * 10) + noise\n",
    "np.random.seed(0)\n",
    "data = {\n",
    "    'id': np.arange(1, 101),\n",
    "    'discount': np.random.randint(5, 20, size=100),\n",
    "    'sales_volume': 1000 - (np.random.randint(5, 20, size=100) * 10) + np.random.normal(0, 5, size=100)\n",
    "}\n",
    "\n",
    "df = pd.DataFrame(data)\n",
    "\n",
    "\n",
    "# lets plot discount vs sales_volume\n",
    "import matplotlib.pyplot as plt\n",
    "plt.scatter(df['discount'], df['sales_volume'])\n",
    "plt.xlabel('Discount')\n",
    "plt.ylabel('Sales Volume')\n",
    "plt.title('Discount vs Sales Volume')\n",
    "plt.show()\n"
   ]
  },
  {
   "cell_type": "code",
   "execution_count": 22,
   "id": "dfeb9aa2",
   "metadata": {},
   "outputs": [
    {
     "data": {
      "image/png": "[encoded data removed]",
      "text/plain": [
       "<Figure size 640x480 with 1 Axes>"
      ]
     },
     "metadata": {},
     "output_type": "display_data"
    }
   ],
   "source": [
    "import numpy as np\n",
    "import matplotlib.pyplot as plt\n",
    "# lets create the numpy array : will have two column : purchase behavour and other one is amount spent : atleast 100 rows with linear relationship\n",
    "data = np.random.rand(100, 2) * 100\n",
    "data[:, 1] = data[:, 0] * 2 + np.random.normal(0, 10, 100)  # introduce linear relationship\n",
    "# lets plot the data\n",
    "\n",
    "\n",
    "# lets use the slope and intercept to show the line\n",
    "# slope, intercept = np.polyfit(data[:, 0], data[:, 1], 1)\n",
    "slope, intercept = 5,1\n",
    "x = np.linspace(0, 100, 100)\n",
    "y = slope * x + intercept\n",
    "plt.plot(x, y, color='red')\n",
    "plt.scatter(data[:, 0], data[:, 1])\n",
    "plt.xlabel('Purchase Behavior')\n",
    "plt.ylabel('Amount Spent')\n",
    "plt.title('Purchase Behavior vs Amount Spent')\n",
    "plt.show()\n"
   ]
  },
  {
   "cell_type": "code",
   "execution_count": 16,
   "id": "7005a472",
   "metadata": {},
   "outputs": [
    {
     "data": {
      "text/plain": [
       "array([166.2982045 , 134.43041079,  22.562761  ,  76.04508691,\n",
       "        37.43943556,  41.53168851,  21.20972129,   9.4511901 ,\n",
       "       142.07871007,   1.73064654,  67.26289963,  12.34293077,\n",
       "       -10.7786788 , 181.25423542,  26.93270157, 119.44395669,\n",
       "       106.39757589,  80.36465556, 108.81227747, 103.54504474,\n",
       "        80.68437799,  39.2341587 , 191.72671083, 164.22780728,\n",
       "       154.53796493,  70.36254586,  87.92030013,  66.22772236,\n",
       "       174.52680495, 116.64965436, 161.8021956 ,  64.72276372,\n",
       "        68.5105768 , 200.48009314, 184.6670903 , 126.04112504,\n",
       "       167.29906955, 150.42567373,  78.17430353, 158.91803121,\n",
       "        23.04183499, 119.01388411,  87.3281222 , 114.54868199,\n",
       "       155.60409267, 176.37308515,  14.38879969,  48.13351449,\n",
       "       136.59151181,  23.96504544, 154.17483835, 158.11449339,\n",
       "       149.79989122,  94.35732282, 100.85106002,  41.85174172,\n",
       "       163.99578354,  52.86199206, 122.8211257 ,  60.56679823,\n",
       "        35.66906793, 125.53266441, 178.42380937, 141.51522625,\n",
       "        19.19402499,  90.53235658, 143.69048895, 123.64721848,\n",
       "        -0.5148306 ,  35.09691084, 187.80454623,  13.89206093,\n",
       "       190.0872585 , 201.53350237,   5.42263805, 184.37488297,\n",
       "        94.05492833, 148.00972981,  17.15043151,  97.53747105,\n",
       "       179.87886913, 149.51549395,  22.06608715,  11.39808364,\n",
       "        59.56055045,  99.85192366, 142.80773744,   4.96096742,\n",
       "       164.17560322,  99.21080069,  45.42451788,  16.89308742,\n",
       "       176.86286833, 105.40156909,  47.97963713,  28.78715171,\n",
       "        65.80334539, 186.52524094,  87.8976158 , 174.39043001])"
      ]
     },
     "execution_count": 16,
     "metadata": {},
     "output_type": "execute_result"
    }
   ],
   "source": [
    "data[:, 1]"
   ]
  },
  {
   "cell_type": "code",
   "execution_count": 20,
   "id": "af5363d1",
   "metadata": {},
   "outputs": [
    {
     "data": {
      "text/plain": [
       "array([405.79013443, 339.42367296,  89.45443715, 233.5751    ,\n",
       "       104.43288109,  64.41652875,  17.22648247,  48.29808256,\n",
       "       376.62720853,  24.80731858, 145.45752165,  33.51914483,\n",
       "         6.62003674, 494.16471717,  92.81560025, 292.22356859,\n",
       "       305.23773003, 229.5844076 , 248.13412075, 245.07978016,\n",
       "       251.07011275,  99.17111147, 489.12933193, 392.21332555,\n",
       "       378.78480334, 136.73971698, 216.11191606, 202.56617078,\n",
       "       492.34983701, 286.60538005, 396.43638886, 181.63570853,\n",
       "       152.91543796, 465.10646509, 478.43533619, 268.73284088,\n",
       "       443.42999902, 340.70591474, 218.07402496, 416.80112396,\n",
       "        50.27480491, 297.96757909, 245.96728449, 264.29631038,\n",
       "       428.31746189, 415.43518414,  45.18849019, 105.29730354,\n",
       "       342.67956455,  36.92950867, 448.02482904, 391.59598713,\n",
       "       359.58937448, 236.74915146, 246.20502997,  89.05597611,\n",
       "       393.82398256,  81.93354103, 326.73151489, 164.84238321,\n",
       "        81.93503357, 291.46119377, 457.2723612 , 402.18923105,\n",
       "        48.72972822, 238.61033697, 360.12208711, 367.69867   ,\n",
       "         6.8832178 , 118.43273554, 478.86069033,  50.73434436,\n",
       "       433.51130833, 498.21476164,  49.22895708, 476.64873665,\n",
       "       225.6891473 , 373.11898897,  61.88567455, 197.88715962,\n",
       "       424.67884091, 342.13507552,  51.23900168,  29.98291417,\n",
       "       120.58664682, 263.18526614, 326.91598676,  18.23264783,\n",
       "       387.54452408, 247.51237045, 124.32570713,  24.82982099,\n",
       "       417.75969994, 322.01207765, 158.37664789,  37.22359297,\n",
       "       192.3646225 , 465.43954473, 250.83898927, 413.27972568])"
      ]
     },
     "execution_count": 20,
     "metadata": {},
     "output_type": "execute_result"
    }
   ],
   "source": [
    "def predict(x,slope=5, intercept=2):\n",
    "    return slope * x + intercept\n",
    "\n",
    "\n",
    "# lets pass the data through the predict function\n",
    "predictions = predict(data[:, 0])\n",
    "predictions\n"
   ]
  },
  {
   "cell_type": "code",
   "execution_count": 21,
   "id": "c1da3ef4",
   "metadata": {},
   "outputs": [
    {
     "name": "stdout",
     "output_type": "stream",
     "text": [
      "total error: -15056.46273812145\n"
     ]
    },
    {
     "data": {
      "text/html": [
       "<div>\n",
       "<style scoped>\n",
       "    .dataframe tbody tr th:only-of-type {\n",
       "        vertical-align: middle;\n",
       "    }\n",
       "\n",
       "    .dataframe tbody tr th {\n",
       "        vertical-align: top;\n",
       "    }\n",
       "\n",
       "    .dataframe thead th {\n",
       "        text-align: right;\n",
       "    }\n",
       "</style>\n",
       "<table border=\"1\" class=\"dataframe\">\n",
       "  <thead>\n",
       "    <tr style=\"text-align: right;\">\n",
       "      <th></th>\n",
       "      <th>Purchase Behavior</th>\n",
       "      <th>Amount Spent</th>\n",
       "      <th>Predicted Amount Spent</th>\n",
       "      <th>Error</th>\n",
       "    </tr>\n",
       "  </thead>\n",
       "  <tbody>\n",
       "    <tr>\n",
       "      <th>0</th>\n",
       "      <td>80.758027</td>\n",
       "      <td>166.298204</td>\n",
       "      <td>405.790134</td>\n",
       "      <td>-239.491930</td>\n",
       "    </tr>\n",
       "    <tr>\n",
       "      <th>1</th>\n",
       "      <td>67.484735</td>\n",
       "      <td>134.430411</td>\n",
       "      <td>339.423673</td>\n",
       "      <td>-204.993262</td>\n",
       "    </tr>\n",
       "    <tr>\n",
       "      <th>2</th>\n",
       "      <td>17.490887</td>\n",
       "      <td>22.562761</td>\n",
       "      <td>89.454437</td>\n",
       "      <td>-66.891676</td>\n",
       "    </tr>\n",
       "    <tr>\n",
       "      <th>3</th>\n",
       "      <td>46.315020</td>\n",
       "      <td>76.045087</td>\n",
       "      <td>233.575100</td>\n",
       "      <td>-157.530013</td>\n",
       "    </tr>\n",
       "    <tr>\n",
       "      <th>4</th>\n",
       "      <td>20.486576</td>\n",
       "      <td>37.439436</td>\n",
       "      <td>104.432881</td>\n",
       "      <td>-66.993446</td>\n",
       "    </tr>\n",
       "  </tbody>\n",
       "</table>\n",
       "</div>"
      ],
      "text/plain": [
       "   Purchase Behavior  Amount Spent  Predicted Amount Spent       Error\n",
       "0          80.758027    166.298204              405.790134 -239.491930\n",
       "1          67.484735    134.430411              339.423673 -204.993262\n",
       "2          17.490887     22.562761               89.454437  -66.891676\n",
       "3          46.315020     76.045087              233.575100 -157.530013\n",
       "4          20.486576     37.439436              104.432881  -66.993446"
      ]
     },
     "execution_count": 21,
     "metadata": {},
     "output_type": "execute_result"
    }
   ],
   "source": [
    "\n",
    "import pandas as pd\n",
    "df = pd.DataFrame(data, columns=['Purchase Behavior', 'Amount Spent'])\n",
    "df['Predicted Amount Spent'] = predictions\n",
    "df['Error'] = df['Amount Spent'] - df['Predicted Amount Spent']\n",
    "print('total error:', df['Error'].sum())\n",
    "df.head()"
   ]
  },
  {
   "cell_type": "markdown",
   "id": "8d86e214",
   "metadata": {},
   "source": [
    "# when slope is 5 and intercept was 1 ===> -15417.8395586832"
   ]
  },
  {
   "cell_type": "code",
   "execution_count": 25,
   "id": "877a97d0",
   "metadata": {},
   "outputs": [
    {
     "name": "stdout",
     "output_type": "stream",
     "text": [
      "total error: -71.83740644665498\n"
     ]
    },
    {
     "data": {
      "text/html": [
       "<div>\n",
       "<style scoped>\n",
       "    .dataframe tbody tr th:only-of-type {\n",
       "        vertical-align: middle;\n",
       "    }\n",
       "\n",
       "    .dataframe tbody tr th {\n",
       "        vertical-align: top;\n",
       "    }\n",
       "\n",
       "    .dataframe thead th {\n",
       "        text-align: right;\n",
       "    }\n",
       "</style>\n",
       "<table border=\"1\" class=\"dataframe\">\n",
       "  <thead>\n",
       "    <tr style=\"text-align: right;\">\n",
       "      <th></th>\n",
       "      <th>Purchase Behavior</th>\n",
       "      <th>Amount Spent</th>\n",
       "      <th>Predicted Amount Spent</th>\n",
       "      <th>Error</th>\n",
       "    </tr>\n",
       "  </thead>\n",
       "  <tbody>\n",
       "    <tr>\n",
       "      <th>0</th>\n",
       "      <td>63.105253</td>\n",
       "      <td>127.457239</td>\n",
       "      <td>126.210507</td>\n",
       "      <td>1.246732</td>\n",
       "    </tr>\n",
       "    <tr>\n",
       "      <th>1</th>\n",
       "      <td>67.525895</td>\n",
       "      <td>140.806797</td>\n",
       "      <td>135.051791</td>\n",
       "      <td>5.755006</td>\n",
       "    </tr>\n",
       "    <tr>\n",
       "      <th>2</th>\n",
       "      <td>13.680230</td>\n",
       "      <td>36.091601</td>\n",
       "      <td>27.360460</td>\n",
       "      <td>8.731140</td>\n",
       "    </tr>\n",
       "    <tr>\n",
       "      <th>3</th>\n",
       "      <td>80.625393</td>\n",
       "      <td>153.030788</td>\n",
       "      <td>161.250785</td>\n",
       "      <td>-8.219997</td>\n",
       "    </tr>\n",
       "    <tr>\n",
       "      <th>4</th>\n",
       "      <td>95.155658</td>\n",
       "      <td>186.350010</td>\n",
       "      <td>190.311316</td>\n",
       "      <td>-3.961306</td>\n",
       "    </tr>\n",
       "  </tbody>\n",
       "</table>\n",
       "</div>"
      ],
      "text/plain": [
       "   Purchase Behavior  Amount Spent  Predicted Amount Spent     Error\n",
       "0          63.105253    127.457239              126.210507  1.246732\n",
       "1          67.525895    140.806797              135.051791  5.755006\n",
       "2          13.680230     36.091601               27.360460  8.731140\n",
       "3          80.625393    153.030788              161.250785 -8.219997\n",
       "4          95.155658    186.350010              190.311316 -3.961306"
      ]
     },
     "execution_count": 25,
     "metadata": {},
     "output_type": "execute_result"
    }
   ],
   "source": [
    "\n",
    "import pandas as pd\n",
    "df = pd.DataFrame(data, columns=['Purchase Behavior', 'Amount Spent'])\n",
    "df['Predicted Amount Spent'] = predictions\n",
    "df['Error'] = df['Amount Spent'] - df['Predicted Amount Spent']\n",
    "print('total error:', df['Error'].sum())\n",
    "df.head()"
   ]
  },
  {
   "cell_type": "code",
   "execution_count": null,
   "id": "bbbaa1d1",
   "metadata": {},
   "outputs": [],
   "source": []
  }
 ],
 "metadata": {
  "kernelspec": {
   "display_name": ".venv",
   "language": "python",
   "name": "python3"
  },
  "language_info": {
   "codemirror_mode": {
    "name": "ipython",
    "version": 3
   },
   "file_extension": ".py",
   "mimetype": "text/x-python",
   "name": "python",
   "nbconvert_exporter": "python",
   "pygments_lexer": "ipython3",
   "version": "3.13.7"
  }
 },
 "nbformat": 4,
 "nbformat_minor": 5
}
