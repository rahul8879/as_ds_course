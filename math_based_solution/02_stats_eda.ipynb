{
 "cells": [
  {
   "cell_type": "code",
   "execution_count": 2,
   "id": "efa760c0",
   "metadata": {},
   "outputs": [
    {
     "name": "stdout",
     "output_type": "stream",
     "text": [
      "Population mean: 49.176\n"
     ]
    }
   ],
   "source": [
    "import numpy as np\n",
    "import matplotlib.pyplot as plt\n",
    "import pandas as pd\n",
    "\n",
    "\n",
    "# lets create the population data\n",
    "population = np.random.randint(0, 100, 1000)\n",
    "# print(\"Population data:\", population)\n",
    "print(\"Population mean:\", np.mean(population))"
   ]
  },
  {
   "cell_type": "code",
   "execution_count": 7,
   "id": "a6e6e2fc",
   "metadata": {},
   "outputs": [
    {
     "data": {
      "text/plain": [
       "np.float64(50.36)"
      ]
     },
     "execution_count": 7,
     "metadata": {},
     "output_type": "execute_result"
    }
   ],
   "source": [
    "# lets create the sample data   \n",
    "sample_1 = np.random.choice(population, 100)\n",
    "sample_2 = np.random.choice(population, 100)\n",
    "\n",
    "# mean of samples\n",
    "mean_sample= np.mean([np.mean(sample_1), np.mean(sample_2)])\n",
    "mean_sample"
   ]
  },
  {
   "cell_type": "code",
   "execution_count": 11,
   "id": "d9e1d299",
   "metadata": {},
   "outputs": [
    {
     "name": "stdout",
     "output_type": "stream",
     "text": [
      "Variance of population: 854.7350239999989\n",
      "Standard Deviation of population: 29.235851689321432\n"
     ]
    }
   ],
   "source": [
    "# lets compute variance from scratch\n",
    "def variance(data):\n",
    "    n = len(data)\n",
    "    mean = np.mean(data)\n",
    "    var = sum((x - mean) ** 2 for x in data) / n\n",
    "    return var\n",
    "\n",
    "\n",
    "variance_population = variance(population)\n",
    "std_dev = np.sqrt(variance_population)\n",
    "print(\"Variance of population:\", variance_population)\n",
    "print(\"Standard Deviation of population:\", std_dev)\n"
   ]
  },
  {
   "cell_type": "code",
   "execution_count": null,
   "id": "dbd69fc5",
   "metadata": {},
   "outputs": [
    {
     "data": {
      "text/plain": [
       "Text(0.5, 0, 'Age')"
      ]
     },
     "execution_count": 13,
     "metadata": {},
     "output_type": "execute_result"
    },
    {
     "data": {
      "image/png": "[encoded data removed]",
      "text/plain": [
       "<Figure size 1000x600 with 1 Axes>"
      ]
     },
     "metadata": {},
     "output_type": "display_data"
    }
   ],
   "source": [
    "# lets create age as normal distribution\n",
    "age = np.random.normal(30, 10, 1000)\n",
    "# kde plot\n",
    "plt.figure(figsize=(10, 6))\n",
    "plt.hist(age, bins=30, density=True, alpha=0.6, color='blue')\n",
    "plt.title('Age Distribution')\n",
    "plt.xlabel('Age')   "
   ]
  },
  {
   "cell_type": "code",
   "execution_count": 15,
   "id": "46793b17",
   "metadata": {},
   "outputs": [
    {
     "name": "stdout",
     "output_type": "stream",
     "text": [
      "Mean of age: 29.712873598043494\n",
      "Variance of age: 96.81817578137536\n",
      "Standard Deviation of age: 9.839622745886926\n"
     ]
    }
   ],
   "source": [
    "# lets compute \n",
    "# lets compute mean  of age\n",
    "mean_age = np.mean(age)\n",
    "variance_age = np.var(age)\n",
    "std_age = np.std(age\n",
    "                    )\n",
    "\n",
    "print(\"Mean of age:\", mean_age )\n",
    "print(\"Variance of age:\", variance_age )\n",
    "print(\"Standard Deviation of age:\", std_age )\n"
   ]
  },
  {
   "cell_type": "code",
   "execution_count": 19,
   "id": "cb49c744",
   "metadata": {},
   "outputs": [
    {
     "data": {
      "text/plain": [
       "[np.float64(0.1940053603827181), np.float64(59.23174183570427)]"
      ]
     },
     "execution_count": 19,
     "metadata": {},
     "output_type": "execute_result"
    }
   ],
   "source": [
    "# lets compute how many people are between 34-40 age using 68-95-99 rule\n",
    "[np.mean(age) - 3*std_age,\n",
    " np.mean(age) + 3*std_age]\n"
   ]
  },
  {
   "cell_type": "code",
   "execution_count": null,
   "id": "ffbb8c7b",
   "metadata": {},
   "outputs": [],
   "source": []
  }
 ],
 "metadata": {
  "kernelspec": {
   "display_name": ".venv",
   "language": "python",
   "name": "python3"
  },
  "language_info": {
   "codemirror_mode": {
    "name": "ipython",
    "version": 3
   },
   "file_extension": ".py",
   "mimetype": "text/x-python",
   "name": "python",
   "nbconvert_exporter": "python",
   "pygments_lexer": "ipython3",
   "version": "3.13.7"
  }
 },
 "nbformat": 4,
 "nbformat_minor": 5
}
