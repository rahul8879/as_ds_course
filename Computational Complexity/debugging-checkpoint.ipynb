{
 "cells": [
  {
   "cell_type": "markdown",
   "metadata": {
    "collapsed": true
   },
   "source": [
    "# Debugging"
   ]
  },
  {
   "cell_type": "markdown",
   "metadata": {},
   "source": [
    "**pdb** implements an interactive debugging environment for Python programs. It includes features to let you pause your program, look at the values of variables, and watch program execution step-by-step, so you can understand what your program actually does and find bugs in the logic."
   ]
  },
  {
   "cell_type": "markdown",
   "metadata": {},
   "source": [
    "# Starting the Debugger"
   ]
  },
  {
   "cell_type": "markdown",
   "metadata": {},
   "source": [
    "**From the Command Line**"
   ]
  },
  {
   "cell_type": "code",
   "execution_count": 1,
   "metadata": {},
   "outputs": [
    {
     "name": "stdout",
     "output_type": "stream",
     "text": [
      "0\n",
      "1\n",
      "2\n",
      "3\n",
      "4\n"
     ]
    }
   ],
   "source": [
    "def seq(n):\n",
    "    for i in range(n):\n",
    "        print(i)\n",
    "    return\n",
    "\n",
    "seq(5)"
   ]
  },
  {
   "cell_type": "markdown",
   "metadata": {},
   "source": [
    "**From Within Your Program**"
   ]
  },
  {
   "cell_type": "code",
   "execution_count": null,
   "metadata": {},
   "outputs": [
    {
     "name": "stdout",
     "output_type": "stream",
     "text": [
      "> \u001b[32m/var/folders/fq/kr6gv5l17pd4j572n0_n3f2c0000gn/T/ipykernel_1973/2703119778.py\u001b[39m(\u001b[92m6\u001b[39m)\u001b[36mseq\u001b[39m\u001b[34m()\u001b[39m\n",
      "\u001b[32m      4\u001b[39m \u001b[38;5;28;01mdef\u001b[39;00m seq(n):\n",
      "\u001b[32m      5\u001b[39m     \u001b[38;5;28;01mfor\u001b[39;00m i \u001b[38;5;28;01min\u001b[39;00m range(n):\n",
      "\u001b[32m----> 6\u001b[39m         pdb.set_trace() \u001b[38;5;66;03m# breakpoint\u001b[39;00m\n",
      "\u001b[32m      7\u001b[39m         print(i)\n",
      "\u001b[32m      8\u001b[39m     \u001b[38;5;28;01mreturn\u001b[39;00m\n",
      "\n",
      "1\n",
      "1\n",
      "1\n",
      "1\n",
      "1\n",
      "1\n",
      "1\n",
      "1\n",
      "1\n",
      "1\n",
      "1\n",
      "1\n",
      "1\n",
      "1\n",
      "1\n",
      "1\n",
      "1\n",
      "1\n",
      "1\n",
      "1\n",
      "1\n",
      "1\n",
      "1\n",
      "1\n",
      "1\n",
      "1\n",
      "1\n",
      "1\n",
      "1\n",
      "1\n",
      "1\n",
      "1\n",
      "1\n",
      "1\n",
      "*** NameError: name 'ipdb' is not defined\n",
      "*** NameError: name 'ipdb' is not defined\n",
      "*** NameError: name 'ipdb' is not defined\n",
      "*** NameError: name 'ipdb' is not defined\n",
      "*** NameError: name 'ipdb' is not defined\n",
      "*** NameError: name 'ipdb' is not defined\n",
      "*** NameError: name 'ipdb' is not defined\n",
      "*** NameError: name 'ipdb' is not defined\n",
      "*** NameError: name 'ipdb' is not defined\n",
      "*** NameError: name 'ipdb' is not defined\n",
      "*** NameError: name 'ipdb' is not defined\n",
      "*** NameError: name 'ipdb' is not defined\n",
      "*** NameError: name 'ipdb' is not defined\n"
     ]
    }
   ],
   "source": [
    "import pdb\n",
    "\n",
    "#interactive debugging\n",
    "def seq(n):\n",
    "    for i in range(n):\n",
    "        pdb.set_trace() # breakpoint\n",
    "        print(i)\n",
    "    return\n",
    "\n",
    "seq(5)\n",
    "\n",
    "\n",
    "# c : continue\n",
    "# q: quit\n",
    "# h: help\n",
    "# list\n",
    "# p: print\n",
    "# p locals()\n",
    "# p globals()\n",
    "\n"
   ]
  },
  {
   "cell_type": "markdown",
   "metadata": {},
   "source": [
    "# Debugger Commands"
   ]
  },
  {
   "cell_type": "markdown",
   "metadata": {},
   "source": [
    "**1. h(elp) [command]**\n"
   ]
  },
  {
   "cell_type": "markdown",
   "metadata": {},
   "source": [
    "Without argument, print the list of available commands. With a command as argument, print help about that command. help pdb displays the full documentation (the docstring of the pdb module). Since the command argument must be an identifier, help exec must be entered to get help on the ! command."
   ]
  },
  {
   "cell_type": "markdown",
   "metadata": {},
   "source": [
    "**2. w(here)**\n",
    "\n",
    "Print a stack trace, with the most recent frame at the bottom. An arrow indicates the current frame, which determines the context of most commands."
   ]
  },
  {
   "cell_type": "markdown",
   "metadata": {},
   "source": [
    "**3. d(own) [count]**\n",
    "\n",
    "Move the current frame count (default one) levels down in the stack trace (to a newer frame)."
   ]
  },
  {
   "cell_type": "markdown",
   "metadata": {},
   "source": [
    "**4.c(ont(inue))**\n",
    "\n",
    "Continue execution, only stop when a breakpoint is encountered."
   ]
  },
  {
   "cell_type": "markdown",
   "metadata": {},
   "source": [
    "**5. q(uit)**\n",
    "\n",
    "Quit from the debugger. The program being executed is aborted."
   ]
  },
  {
   "cell_type": "markdown",
   "metadata": {},
   "source": [
    "**Termial/Command prompt based debugging**"
   ]
  },
  {
   "cell_type": "code",
   "execution_count": null,
   "metadata": {
    "collapsed": true
   },
   "outputs": [],
   "source": []
  }
 ],
 "metadata": {
  "kernelspec": {
   "display_name": ".venv",
   "language": "python",
   "name": "python3"
  },
  "language_info": {
   "codemirror_mode": {
    "name": "ipython",
    "version": 3
   },
   "file_extension": ".py",
   "mimetype": "text/x-python",
   "name": "python",
   "nbconvert_exporter": "python",
   "pygments_lexer": "ipython3",
   "version": "3.13.7"
  }
 },
 "nbformat": 4,
 "nbformat_minor": 2
}
