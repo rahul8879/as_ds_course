{
 "cells": [
  {
   "cell_type": "markdown",
   "id": "1c723f1f",
   "metadata": {},
   "source": [
    "Assignment 1: Introduction to Python\n",
    "\n",
    "Task 1:\n",
    "Write a Python program that asks the user for their name and age, and then prints out a message greeting them and stating their age in 10 years.\n",
    "\n",
    "Example Output:\n",
    "Enter your name: John\n",
    "Enter your age: 25\n",
    "Hello, John! In 10 years, you will be 35 years old.\n",
    "\n",
    "Task 2:\n",
    "Write a Python program that calculates and displays the area of a rectangle. Prompt the user to enter the length and width of the rectangle.\n",
    "\n",
    "Example Output:\n",
    "Enter the length of the rectangle: 8\n",
    "Enter the width of the rectangle: 5\n",
    "The area of the rectangle is 40.\n",
    "\n",
    "Assignment 2: Data Structures and Manipulation\n",
    "\n",
    "Task 1:\n",
    "Write a Python program that takes a list of numbers as input and prints the sum, maximum, and minimum values in the list.\n",
    "\n",
    "Example Output:\n",
    "Enter a list of numbers (separated by spaces): 5 10 3 7 1\n",
    "Sum: 26\n",
    "Maximum: 10\n",
    "Minimum: 1\n",
    "\n",
    "Task 2:\n",
    "Write a Python program that takes a string as input and counts the occurrences of each character in the string. Ignore whitespace and consider case sensitivity.\n",
    "\n",
    "Example Output:\n",
    "Enter a string: Hello, World!\n",
    "Character counts:\n",
    "H: 1\n",
    "e: 1\n",
    "l: 3\n",
    "o: 2\n",
    ",: 1\n",
    "W: 1\n",
    "r: 1\n",
    "d: 1\n",
    "!: 1\n",
    "\n",
    "These assignments will help your students practice the concepts learned in the first two modules, including variables, data types, control flow, functions, lists, and basic string manipulation. Feel free to modify them as needed or add additional tasks to further challenge your students."
   ]
  },
  {
   "cell_type": "code",
   "execution_count": 1,
   "id": "1256120f",
   "metadata": {},
   "outputs": [],
   "source": [
    "# little harder problem"
   ]
  },
  {
   "cell_type": "markdown",
   "id": "b3433f12",
   "metadata": {},
   "source": [
    "Assignment 1: Introduction to Python\n",
    "\n",
    "Task 1:\n",
    "Write a Python program that prompts the user to enter a sentence and then counts the frequency of each word in the sentence. Ignore punctuation and consider case sensitivity.\n",
    "\n",
    "Example Output:\n",
    "Enter a sentence: The cat in the hat sat on the mat.\n",
    "Word counts:\n",
    "The: 1\n",
    "cat: 1\n",
    "in: 1\n",
    "hat: 1\n",
    "sat: 1\n",
    "on: 1\n",
    "mat: 1\n",
    "\n",
    "Task 2:\n",
    "Write a Python program to find and display all prime numbers within a given range. Prompt the user to enter the starting and ending numbers of the range.\n",
    "\n",
    "Example Output:\n",
    "Enter the starting number: 10\n",
    "Enter the ending number: 30\n",
    "Prime numbers within the range: 11, 13, 17, 19, 23, 29\n",
    "\n",
    "Assignment 2: Data Structures and Manipulation\n",
    "\n",
    "Task 1:\n",
    "Write a Python program that takes a list of integers as input and returns a new list containing only the even numbers from the original list.\n",
    "\n",
    "Example Output:\n",
    "Enter a list of integers (separated by spaces): 3 8 2 12 7 6\n",
    "List of even numbers: [8, 2, 12, 6]\n",
    "\n",
    "Task 2:\n",
    "Write a Python program that prompts the user to enter a sentence and then prints out the sentence in reverse word order.\n",
    "\n",
    "Example Output:\n",
    "Enter a sentence: Python is a powerful programming language.\n",
    "Reversed sentence: language. programming powerful a is Python"
   ]
  },
  {
   "cell_type": "code",
   "execution_count": 2,
   "id": "5362d670",
   "metadata": {},
   "outputs": [],
   "source": [
    "#all combined"
   ]
  },
  {
   "cell_type": "markdown",
   "id": "ef7715ef",
   "metadata": {},
   "source": [
    "You are tasked with creating a program to calculate and analyze student grades based on their exam scores. Implement a Python program that performs the following tasks:\n",
    "\n",
    "Prompt the user to enter the number of students.\n",
    "For each student, prompt the user to enter their name and three exam scores (out of 100).\n",
    "Calculate the average score for each student.\n",
    "Determine the letter grade for each student based on the following criteria:\n",
    "A: Average score >= 90\n",
    "B: 80 <= Average score < 90\n",
    "C: 70 <= Average score < 80\n",
    "D: 60 <= Average score < 70\n",
    "F: Average score < 60\n",
    "Print a summary table that displays each student's name, average score, and letter grade.\n",
    "Calculate and display the class average score."
   ]
  },
  {
   "cell_type": "code",
   "execution_count": null,
   "id": "2638cf5e",
   "metadata": {},
   "outputs": [],
   "source": []
  }
 ],
 "metadata": {
  "kernelspec": {
   "display_name": "Python 3 (ipykernel)",
   "language": "python",
   "name": "python3"
  },
  "language_info": {
   "codemirror_mode": {
    "name": "ipython",
    "version": 3
   },
   "file_extension": ".py",
   "mimetype": "text/x-python",
   "name": "python",
   "nbconvert_exporter": "python",
   "pygments_lexer": "ipython3",
   "version": "3.10.9"
  }
 },
 "nbformat": 4,
 "nbformat_minor": 5
}
