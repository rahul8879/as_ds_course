{
 "cells": [
  {
   "cell_type": "code",
   "execution_count": 4,
   "id": "1887b6e4",
   "metadata": {},
   "outputs": [
    {
     "data": {
      "text/plain": [
       "str"
      ]
     },
     "execution_count": 4,
     "metadata": {},
     "output_type": "execute_result"
    }
   ],
   "source": [
    "x = '47.7' # variable\n",
    "# y=48\n",
    "# z = (x+y)/2\n",
    "# print(z)\n",
    "\n",
    "type(x)\n",
    "\n",
    "\n"
   ]
  },
  {
   "cell_type": "code",
   "execution_count": 12,
   "id": "a1480ebf",
   "metadata": {},
   "outputs": [
    {
     "ename": "SyntaxError",
     "evalue": "cannot assign to expression here. Maybe you meant '==' instead of '='? (171774884.py, line 1)",
     "output_type": "error",
     "traceback": [
      "  \u001b[36mCell\u001b[39m\u001b[36m \u001b[39m\u001b[32mIn[12]\u001b[39m\u001b[32m, line 1\u001b[39m\n\u001b[31m    \u001b[39m\u001b[31mtest@1=3\u001b[39m\n    ^\n\u001b[31mSyntaxError\u001b[39m\u001b[31m:\u001b[39m cannot assign to expression here. Maybe you meant '==' instead of '='?\n"
     ]
    }
   ],
   "source": [
    "test@1=3\n",
    "test1"
   ]
  },
  {
   "cell_type": "code",
   "execution_count": 13,
   "id": "54954d00",
   "metadata": {},
   "outputs": [
    {
     "ename": "SyntaxError",
     "evalue": "invalid syntax (2361273456.py, line 1)",
     "output_type": "error",
     "traceback": [
      "  \u001b[36mCell\u001b[39m\u001b[36m \u001b[39m\u001b[32mIn[13]\u001b[39m\u001b[32m, line 1\u001b[39m\n\u001b[31m    \u001b[39m\u001b[31mand = 3\u001b[39m\n    ^\n\u001b[31mSyntaxError\u001b[39m\u001b[31m:\u001b[39m invalid syntax\n"
     ]
    }
   ],
   "source": [
    "and = 3\n",
    "print(and)"
   ]
  },
  {
   "cell_type": "code",
   "execution_count": 14,
   "id": "f92df40a",
   "metadata": {},
   "outputs": [
    {
     "ename": "SyntaxError",
     "evalue": "invalid syntax (1061972128.py, line 1)",
     "output_type": "error",
     "traceback": [
      "  \u001b[36mCell\u001b[39m\u001b[36m \u001b[39m\u001b[32mIn[14]\u001b[39m\u001b[32m, line 1\u001b[39m\n\u001b[31m    \u001b[39m\u001b[31melse = 3\u001b[39m\n    ^\n\u001b[31mSyntaxError\u001b[39m\u001b[31m:\u001b[39m invalid syntax\n"
     ]
    }
   ],
   "source": [
    "else = 3\n",
    "print(else)"
   ]
  },
  {
   "cell_type": "code",
   "execution_count": 17,
   "id": "5ef321f4",
   "metadata": {},
   "outputs": [
    {
     "name": "stdout",
     "output_type": "stream",
     "text": [
      "['False', 'None', 'True', 'and', 'as', 'assert', 'async', 'await', 'break', 'class', 'continue', 'def', 'del', 'elif', 'else', 'except', 'finally', 'for', 'from', 'global', 'if', 'import', 'in', 'is', 'lambda', 'nonlocal', 'not', 'or', 'pass', 'raise', 'return', 'try', 'while', 'with', 'yield']\n"
     ]
    },
    {
     "data": {
      "text/plain": [
       "35"
      ]
     },
     "execution_count": 17,
     "metadata": {},
     "output_type": "execute_result"
    }
   ],
   "source": [
    "import keyword\n",
    "print(keyword.kwlist)\n",
    "len(keyword.kwlist)"
   ]
  },
  {
   "cell_type": "code",
   "execution_count": 16,
   "id": "7d14a76d",
   "metadata": {},
   "outputs": [
    {
     "data": {
      "text/plain": [
       "5"
      ]
     },
     "execution_count": 16,
     "metadata": {},
     "output_type": "execute_result"
    }
   ],
   "source": [
    "marks = [90, 25, 67, 45, 80]\n",
    "len(marks)"
   ]
  },
  {
   "cell_type": "code",
   "execution_count": 23,
   "id": "2bdb19f0",
   "metadata": {},
   "outputs": [
    {
     "name": "stdout",
     "output_type": "stream",
     "text": [
      "You are eligible to vote.\n"
     ]
    }
   ],
   "source": [
    "age = input(\"Enter your age: \")\n",
    "age = int(age)\n",
    "if age >= 18:\n",
    "    print(\"You are eligible to vote.\")\n",
    "else:\n",
    "    print(\"You are not eligible to vote.\")"
   ]
  },
  {
   "cell_type": "code",
   "execution_count": 24,
   "id": "07cfddfa",
   "metadata": {},
   "outputs": [
    {
     "name": "stdout",
     "output_type": "stream",
     "text": [
      "28.5\n"
     ]
    }
   ],
   "source": [
    "s1 = 24\n",
    "s2 = 25\n",
    "s3 = 26\n",
    "s4 = 27\n",
    "s5 = 28\n",
    "s6 = 29\n",
    "s7 = 30\n",
    "s8 = 31\n",
    "s9 = 32\n",
    "s10 = 33\n",
    "\n",
    "# to compute the avg\n",
    "avg = (s1+s2+s3+s4+s5+s6+s7+s8+s9+s10)/10\n",
    "print(avg)"
   ]
  },
  {
   "cell_type": "code",
   "execution_count": 32,
   "id": "d8c22cbb",
   "metadata": {},
   "outputs": [
    {
     "name": "stdout",
     "output_type": "stream",
     "text": [
      "76.8\n"
     ]
    }
   ],
   "source": [
    "marks = [90, 25, 67, 45, 80, 88, 76, 95, 89, 77,92, 91, 85, 73, 79]\n",
    "avg_marks = sum(marks)/len(marks)\n",
    "print(avg_marks)\n"
   ]
  },
  {
   "cell_type": "code",
   "execution_count": 39,
   "id": "c950cf55",
   "metadata": {},
   "outputs": [
    {
     "name": "stdout",
     "output_type": "stream",
     "text": [
      "8\n"
     ]
    }
   ],
   "source": [
    "count = 0\n",
    "\n",
    "for mark in marks:\n",
    "    if mark >= 80:\n",
    "        count = count + 1\n",
    "\n",
    "print(count)"
   ]
  },
  {
   "cell_type": "code",
   "execution_count": 43,
   "id": "5ae611c4",
   "metadata": {},
   "outputs": [
    {
     "name": "stdout",
     "output_type": "stream",
     "text": [
      "8\n"
     ]
    }
   ],
   "source": [
    "marks = [90, 25, 67, 45, 80, 88, 76, 95, 89, 77,92, 91, 85, 73, 79]\n",
    "count = 0   \n",
    "for i in range(len(marks)):\n",
    "    if marks[i] >= 80:\n",
    "        count = count + 1\n",
    "\n",
    "print(count)"
   ]
  },
  {
   "cell_type": "code",
   "execution_count": 52,
   "id": "26690fc2",
   "metadata": {},
   "outputs": [
    {
     "name": "stdout",
     "output_type": "stream",
     "text": [
      "Hello World test\n"
     ]
    }
   ],
   "source": [
    "print(\"Hello World\",\"test\")"
   ]
  },
  {
   "cell_type": "code",
   "execution_count": 54,
   "id": "803eaea6",
   "metadata": {},
   "outputs": [
    {
     "ename": "TypeError",
     "evalue": "sum() takes at most 2 arguments (3 given)",
     "output_type": "error",
     "traceback": [
      "\u001b[31m---------------------------------------------------------------------------\u001b[39m",
      "\u001b[31mTypeError\u001b[39m                                 Traceback (most recent call last)",
      "\u001b[36mCell\u001b[39m\u001b[36m \u001b[39m\u001b[32mIn[54]\u001b[39m\u001b[32m, line 1\u001b[39m\n\u001b[32m----> \u001b[39m\u001b[32m1\u001b[39m \u001b[38;5;28;43msum\u001b[39;49m\u001b[43m(\u001b[49m\u001b[43m[\u001b[49m\u001b[32;43m1\u001b[39;49m\u001b[43m,\u001b[49m\u001b[32;43m2\u001b[39;49m\u001b[43m,\u001b[49m\u001b[32;43m3\u001b[39;49m\u001b[43m,\u001b[49m\u001b[32;43m4\u001b[39;49m\u001b[43m,\u001b[49m\u001b[32;43m5\u001b[39;49m\u001b[43m]\u001b[49m\u001b[43m,\u001b[49m\u001b[32;43m10\u001b[39;49m\u001b[43m,\u001b[49m\u001b[32;43m1212121\u001b[39;49m\u001b[43m)\u001b[49m\n",
      "\u001b[31mTypeError\u001b[39m: sum() takes at most 2 arguments (3 given)"
     ]
    }
   ],
   "source": [
    "sum([1,2,3,4,5],10,1212121)"
   ]
  },
  {
   "cell_type": "code",
   "execution_count": 62,
   "id": "4c5684dd",
   "metadata": {},
   "outputs": [
    {
     "name": "stdout",
     "output_type": "stream",
     "text": [
      "[1, 2] 3\n"
     ]
    },
    {
     "data": {
      "text/plain": [
       "[1, 2, 3]"
      ]
     },
     "execution_count": 62,
     "metadata": {},
     "output_type": "execute_result"
    }
   ],
   "source": [
    "def test(a,b):\n",
    "    print(a,b)\n",
    "    return a+[b]\n",
    "\n",
    "test([1,2],3)"
   ]
  },
  {
   "cell_type": "code",
   "execution_count": 61,
   "id": "69e471d1",
   "metadata": {},
   "outputs": [
    {
     "data": {
      "text/plain": [
       "[1, 2, 3]"
      ]
     },
     "execution_count": 61,
     "metadata": {},
     "output_type": "execute_result"
    }
   ],
   "source": [
    "[1,2]+list([3])"
   ]
  },
  {
   "cell_type": "code",
   "execution_count": 68,
   "id": "11071d7c",
   "metadata": {},
   "outputs": [],
   "source": [
    "result = {'student_1':[90,80,70],\n",
    "          'student_2':[70,80,90]}\n",
    "final_avg= []\n",
    "total = 0\n",
    "for i in result['student_1']:\n",
    "    total = total + i\n",
    "final_avg.append(total/len(result['student_1']))\n",
    "\n",
    "result['avg_s1']= final_avg\n"
   ]
  },
  {
   "cell_type": "code",
   "execution_count": 69,
   "id": "92e30126",
   "metadata": {},
   "outputs": [
    {
     "data": {
      "text/plain": [
       "{'student_1': [90, 80, 70], 'student_2': [70, 80, 90], 'avg_s1': [80.0]}"
      ]
     },
     "execution_count": 69,
     "metadata": {},
     "output_type": "execute_result"
    }
   ],
   "source": [
    "result"
   ]
  },
  {
   "cell_type": "code",
   "execution_count": 76,
   "id": "efc386fc",
   "metadata": {},
   "outputs": [
    {
     "name": "stdout",
     "output_type": "stream",
     "text": [
      "Adhar Number is less than 12 digits or contains characters\n"
     ]
    }
   ],
   "source": [
    "adhar_number = input(\"Enter your adhar number: \")\n",
    "\n",
    "if len(adhar_number) == 12 and adhar_number.isdigit():\n",
    "    print(\"Valid Adhar Number\")\n",
    "elif len(adhar_number) < 12 or not adhar_number.isdigit():\n",
    "    print(\"Adhar Number is less than 12 digits or contains characters\")\n",
    "elif len(adhar_number) > 12 or not adhar_number.isdigit():\n",
    "    print(\"Adhar Number is more than 12 digits or contains characters\")"
   ]
  },
  {
   "cell_type": "code",
   "execution_count": null,
   "id": "af6d27f8",
   "metadata": {},
   "outputs": [],
   "source": []
  },
  {
   "cell_type": "code",
   "execution_count": null,
   "id": "cb6f8762",
   "metadata": {},
   "outputs": [],
   "source": []
  },
  {
   "cell_type": "code",
   "execution_count": 73,
   "id": "48a7335b",
   "metadata": {},
   "outputs": [
    {
     "data": {
      "text/plain": [
       "True"
      ]
     },
     "execution_count": 73,
     "metadata": {},
     "output_type": "execute_result"
    }
   ],
   "source": [
    "name = '123'\n",
    "name.isdigit()"
   ]
  },
  {
   "cell_type": "code",
   "execution_count": null,
   "id": "f99e31ac",
   "metadata": {},
   "outputs": [],
   "source": []
  },
  {
   "cell_type": "code",
   "execution_count": null,
   "id": "69d7da73",
   "metadata": {},
   "outputs": [],
   "source": []
  }
 ],
 "metadata": {
  "kernelspec": {
   "display_name": ".venv",
   "language": "python",
   "name": "python3"
  },
  "language_info": {
   "codemirror_mode": {
    "name": "ipython",
    "version": 3
   },
   "file_extension": ".py",
   "mimetype": "text/x-python",
   "name": "python",
   "nbconvert_exporter": "python",
   "pygments_lexer": "ipython3",
   "version": "3.13.7"
  }
 },
 "nbformat": 4,
 "nbformat_minor": 5
}
