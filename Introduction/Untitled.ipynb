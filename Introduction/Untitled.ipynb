{
 "cells": [
  {
   "cell_type": "code",
   "execution_count": 1,
   "id": "9e2e91ab",
   "metadata": {},
   "outputs": [],
   "source": [
    "account_number = '123BaC'"
   ]
  },
  {
   "cell_type": "code",
   "execution_count": 2,
   "id": "18ac1e1a",
   "metadata": {},
   "outputs": [],
   "source": [
    "salary = 10000"
   ]
  },
  {
   "cell_type": "code",
   "execution_count": null,
   "id": "708223bc",
   "metadata": {},
   "outputs": [],
   "source": []
  }
 ],
 "metadata": {
  "kernelspec": {
   "display_name": "Python 3 (ipykernel)",
   "language": "python",
   "name": "python3"
  },
  "language_info": {
   "codemirror_mode": {
    "name": "ipython",
    "version": 3
   },
   "file_extension": ".py",
   "mimetype": "text/x-python",
   "name": "python",
   "nbconvert_exporter": "python",
   "pygments_lexer": "ipython3",
   "version": "3.10.9"
  }
 },
 "nbformat": 4,
 "nbformat_minor": 5
}
