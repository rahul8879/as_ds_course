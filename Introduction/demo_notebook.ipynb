{
 "cells": [
  {
   "cell_type": "markdown",
   "id": "4e46c85f",
   "metadata": {},
   "source": [
    "### This is demo notebook"
   ]
  },
  {
   "cell_type": "code",
   "execution_count": 6,
   "id": "2304abf8",
   "metadata": {},
   "outputs": [
    {
     "name": "stdout",
     "output_type": "stream",
     "text": [
      "hello\n",
      "hey ! I am learning python\n"
     ]
    }
   ],
   "source": [
    "print('hello') #shift + enter\n",
    "print('hey ! I am learning python')"
   ]
  },
  {
   "cell_type": "code",
   "execution_count": 7,
   "id": "adf75f91",
   "metadata": {},
   "outputs": [
    {
     "name": "stdout",
     "output_type": "stream",
     "text": [
      "hello\n",
      "hey ! I am learning python\n"
     ]
    }
   ],
   "source": [
    "print('hello') #shift + enter\n",
    "print('hey ! I am learning python')"
   ]
  },
  {
   "cell_type": "markdown",
   "id": "0f64f9b9",
   "metadata": {
    "vscode": {
     "languageId": "html"
    }
   },
   "source": [
    "\n",
    "<head>\n",
    "    Something\n",
    "</head>\n",
    "<body>\n",
    "    <li>Hello</li>\n",
    "</body>\n"
   ]
  },
  {
   "cell_type": "code",
   "execution_count": 19,
   "id": "0306fb37",
   "metadata": {},
   "outputs": [
    {
     "ename": "ValueError",
     "evalue": "invalid literal for int() with base 10: '3A'",
     "output_type": "error",
     "traceback": [
      "\u001b[31m---------------------------------------------------------------------------\u001b[39m",
      "\u001b[31mValueError\u001b[39m                                Traceback (most recent call last)",
      "\u001b[36mCell\u001b[39m\u001b[36m \u001b[39m\u001b[32mIn[19]\u001b[39m\u001b[32m, line 3\u001b[39m\n\u001b[32m      1\u001b[39m \u001b[38;5;66;03m# a = 2\u001b[39;00m\n\u001b[32m      2\u001b[39m b = \u001b[33m'\u001b[39m\u001b[33m3A\u001b[39m\u001b[33m'\u001b[39m\n\u001b[32m----> \u001b[39m\u001b[32m3\u001b[39m d = \u001b[38;5;28;43mint\u001b[39;49m\u001b[43m(\u001b[49m\u001b[43mb\u001b[49m\u001b[43m)\u001b[49m\n\u001b[32m      4\u001b[39m \u001b[38;5;28mtype\u001b[39m(d)\n",
      "\u001b[31mValueError\u001b[39m: invalid literal for int() with base 10: '3A'"
     ]
    }
   ],
   "source": [
    "# a = 2\n",
    "b = '3A'\n",
    "d = int(b)\n",
    "type(d)"
   ]
  },
  {
   "cell_type": "code",
   "execution_count": 22,
   "id": "b2f27731",
   "metadata": {},
   "outputs": [
    {
     "data": {
      "text/plain": [
       "5"
      ]
     },
     "execution_count": 22,
     "metadata": {},
     "output_type": "execute_result"
    }
   ],
   "source": [
    "a = 2\n",
    "b = '3'\n",
    "c= a+int(b)\n",
    "c"
   ]
  },
  {
   "cell_type": "code",
   "execution_count": 30,
   "id": "49384266",
   "metadata": {},
   "outputs": [],
   "source": [
    "a1 =2"
   ]
  },
  {
   "cell_type": "code",
   "execution_count": 31,
   "id": "17e379f9",
   "metadata": {},
   "outputs": [],
   "source": [
    "A1=2"
   ]
  },
  {
   "cell_type": "code",
   "execution_count": 24,
   "metadata": {},
   "outputs": [
    {
     "name": "stdout",
     "output_type": "stream",
     "text": [
      "value of a is:  3\n",
      "value of a is:  2\n",
      "Value of c is :  5\n"
     ]
    }
   ],
   "source": [
    "#  lets take the input from user\n",
    "a = input('Please enter the value')\n",
    "print('value of a is: ',a)\n",
    "b = input('Please enter the value')\n",
    "print('value of a is: ',b)\n",
    "\n",
    "c = int(a)+int(b)\n",
    "print('Value of c is : ',c)"
   ]
  },
  {
   "cell_type": "code",
   "execution_count": null,
   "metadata": {},
   "outputs": [],
   "source": []
  },
  {
   "cell_type": "code",
   "execution_count": null,
   "metadata": {},
   "outputs": [],
   "source": []
  },
  {
   "cell_type": "code",
   "execution_count": null,
   "id": "0244d60d",
   "metadata": {
    "vscode": {
     "languageId": "html"
    }
   },
   "outputs": [],
   "source": []
  }
 ],
 "metadata": {
  "kernelspec": {
   "display_name": "ai-env (3.11.4)",
   "language": "python",
   "name": "python3"
  },
  "language_info": {
   "codemirror_mode": {
    "name": "ipython",
    "version": 3
   },
   "file_extension": ".py",
   "mimetype": "text/x-python",
   "name": "python",
   "nbconvert_exporter": "python",
   "pygments_lexer": "ipython3",
   "version": "3.11.4"
  }
 },
 "nbformat": 4,
 "nbformat_minor": 5
}
